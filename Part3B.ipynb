{
 "cells": [
  {
   "cell_type": "markdown",
   "id": "9fbfd2ee-db2f-4a87-a0ef-6cb7a372d49a",
   "metadata": {
    "tags": []
   },
   "source": [
    "**Part 3B**\n",
    "\n",
    "**Instructions:**\n",
    "\n",
    "See the instructions in the pdf file provided in **Instructions and details for all parts**\n",
    "\n",
    "- Use this notebook to \n",
    "> - show the work you carried out to produce a prediction model and comma delimited file with your predictions of DSHARES in the test dataset.\n",
    "> - show the work you carried out to produce your estimate of M, the mean absolute error in predicting log(1+DSHARES)\n",
    "> - provide your estimate of M in the cell provided\n",
    "- You need to upload the comma delimited file for part 3A \n",
    "- You need to upload this notebook or part 3B.\n",
    "\n",
    "Use any number of cells you need to for your work. \n",
    "Make sure you assign a value to M and print it in the last (print) cell provided."
   ]
  },
  {
   "cell_type": "code",
   "execution_count": 1,
   "id": "e9683caa-f3ca-48d5-831d-110ddd23c0e3",
   "metadata": {
    "tags": []
   },
   "outputs": [],
   "source": [
    "import pandas as pd\n",
    "import numpy as np"
   ]
  },
  {
   "cell_type": "code",
   "execution_count": 2,
   "id": "d943ceee-f573-4c90-a61d-e77faa77d5da",
   "metadata": {
    "tags": []
   },
   "outputs": [
    {
     "name": "stdout",
     "output_type": "stream",
     "text": [
      "(3424, 4)\n",
      "(500, 3)\n"
     ]
    }
   ],
   "source": [
    "# Load the data\n",
    "train=pd.read_csv(\"train029.csv\")\n",
    "test = pd.read_csv(\"test029.csv\")\n",
    "print(train.shape)\n",
    "print(test.shape)"
   ]
  },
  {
   "cell_type": "code",
   "execution_count": 3,
   "id": "9fc0a251-186e-4ba1-bf5c-2e0255d400b3",
   "metadata": {},
   "outputs": [
    {
     "data": {
      "text/plain": [
       "(TRANS_DATE             0\n",
       " ASHARES                0\n",
       " TRANS_PRICEPERSHARE    0\n",
       " DSHARES                0\n",
       " dtype: int64,\n",
       " TRANS_DATE             0\n",
       " ASHARES                0\n",
       " TRANS_PRICEPERSHARE    0\n",
       " dtype: int64)"
      ]
     },
     "execution_count": 3,
     "metadata": {},
     "output_type": "execute_result"
    }
   ],
   "source": [
    "# Check for missing elements\n",
    "missing_values_train = train.isnull().sum()\n",
    "missing_values_test = test.isnull().sum()\n",
    "missing_values_train, missing_values_test\n",
    "# Nothing missing"
   ]
  },
  {
   "cell_type": "code",
   "execution_count": 4,
   "id": "dc7cdeaa-4066-4a3c-999c-8ed0784887c1",
   "metadata": {},
   "outputs": [],
   "source": [
    "train[\"date_time\"]=pd.to_datetime(train[\"TRANS_DATE\"])\n",
    "test['date_time'] = pd.to_datetime(test['TRANS_DATE'])\n",
    "train['YEAR'] = train['date_time'].dt.year\n",
    "train['MONTH'] = train['date_time'].dt.month\n",
    "train['DAY'] = train['date_time'].dt.day\n",
    "test['YEAR'] = test['date_time'].dt.year\n",
    "test['MONTH'] = test['date_time'].dt.month\n",
    "test['DAY'] = test['date_time'].dt.day\n",
    "train['WEEKDAY'] = train['date_time'].dt.weekday\n",
    "train['QUARTER'] = train['date_time'].dt.quarter\n",
    "test['WEEKDAY'] = test['date_time'].dt.weekday\n",
    "test['QUARTER'] = test['date_time'].dt.quarter"
   ]
  },
  {
   "cell_type": "code",
   "execution_count": 5,
   "id": "67c906f7-0947-4ccf-b994-90827ad13938",
   "metadata": {},
   "outputs": [],
   "source": [
    "# Splitting the training data for internal training and testing\n",
    "X = train[['YEAR', 'MONTH', 'DAY', 'WEEKDAY', 'QUARTER', 'ASHARES', 'TRANS_PRICEPERSHARE']]\n",
    "y = train['DSHARES']"
   ]
  },
  {
   "cell_type": "code",
   "execution_count": 6,
   "id": "bb5224bc-e4cb-4c83-948b-c0dfe012996c",
   "metadata": {
    "tags": []
   },
   "outputs": [],
   "source": [
    "# Preprocessing\n",
    "from sklearn.preprocessing import StandardScaler\n",
    "X = StandardScaler().fit_transform(X)"
   ]
  },
  {
   "cell_type": "code",
   "execution_count": 7,
   "id": "5a84d7f6-f980-43ab-b307-ed07bf44690f",
   "metadata": {
    "tags": []
   },
   "outputs": [
    {
     "name": "stdout",
     "output_type": "stream",
     "text": [
      "Linear Regression - Log Mean Absolute Error (Cross-Validation): 6.55971\n",
      "Decision Tree Regressor - Log Mean Absolute Error (Cross-Validation): 2.14664\n",
      "Best parameters for Random Forest: {'max_depth': 30, 'min_samples_split': 2, 'n_estimators': 50}\n",
      "Best cross-validation score (Log MAE): 2.291001026455093\n",
      "Random Forest Regressor (Tuned) - Log Mean Absolute Error (Cross-Validation): 2.76042\n",
      "Support Vector Regression - Log Mean Absolute Error (Cross-Validation): 5.13166\n",
      "Best parameters for KNN Regressor: {'n_neighbors': 2}\n",
      "Best cross-validation score (Log MAE): 2.226673007091265\n",
      "KNN Regressor (Tuned) - Log Mean Absolute Error (Cross-Validation): 2.46154\n",
      "Gradient Boosting Regressor - Log Mean Absolute Error (Cross-Validation): 5.62207\n"
     ]
    }
   ],
   "source": [
    "from sklearn.linear_model import LinearRegression\n",
    "from sklearn.tree import DecisionTreeRegressor\n",
    "from sklearn.ensemble import RandomForestRegressor, GradientBoostingRegressor\n",
    "from sklearn.svm import SVR\n",
    "from sklearn.neighbors import KNeighborsRegressor\n",
    "from sklearn.model_selection import cross_val_score, GridSearchCV\n",
    "\n",
    "def log_mae(estimator, X, y):\n",
    "    y_pred = estimator.predict(X)\n",
    "    y_pred = np.clip(y_pred, 0, None)\n",
    "    return -np.mean(np.abs(np.log1p(y) - np.log1p(y_pred)))\n",
    "\n",
    "errors = []\n",
    "\n",
    "def cross_val_scoring(model, X, y, model_name):\n",
    "    scores = cross_val_score(model, X, y, cv=5, scoring=log_mae)\n",
    "    avg_score = -scores.mean()\n",
    "    print(f\"{model_name} - Log Mean Absolute Error (Cross-Validation): {avg_score:.5f}\")\n",
    "    errors.append(avg_score)\n",
    "\n",
    "# Linear Regression\n",
    "lr_model = LinearRegression()\n",
    "cross_val_scoring(lr_model, X, y, 'Linear Regression')\n",
    "\n",
    "# Decision Tree\n",
    "dt_model = DecisionTreeRegressor()\n",
    "cross_val_scoring(dt_model, X, y, 'Decision Tree Regressor')\n",
    "\n",
    "# Random Forest\n",
    "rf_params = {\n",
    "    'n_estimators': [50, 100, 125, 150],\n",
    "    'max_depth': [None, 10, 20, 30],\n",
    "    'min_samples_split': [2, 5, 10]\n",
    "}\n",
    "rf_grid_search = GridSearchCV(RandomForestRegressor(), rf_params, cv=10, scoring=log_mae)\n",
    "rf_grid_search.fit(X, y)\n",
    "print(\"Best parameters for Random Forest:\", rf_grid_search.best_params_)\n",
    "print(\"Best cross-validation score (Log MAE):\", -rf_grid_search.best_score_)\n",
    "rf_best_model = RandomForestRegressor(**rf_grid_search.best_params_)\n",
    "cross_val_scoring(rf_best_model, X, y, 'Random Forest Regressor (Tuned)')\n",
    "\n",
    "# Support Vector Regression\n",
    "svr_model = SVR()\n",
    "cross_val_scoring(svr_model, X, y, 'Support Vector Regression')\n",
    "\n",
    "# k Nearest Neighbors\n",
    "knn_params = {'n_neighbors': range(1, 31)}\n",
    "knn_grid_search = GridSearchCV(KNeighborsRegressor(), knn_params, cv=10, scoring=log_mae)\n",
    "knn_grid_search.fit(X, y)\n",
    "print(\"Best parameters for KNN Regressor:\", knn_grid_search.best_params_)\n",
    "print(\"Best cross-validation score (Log MAE):\", -knn_grid_search.best_score_)\n",
    "knn_best_model = KNeighborsRegressor(**knn_grid_search.best_params_)\n",
    "cross_val_scoring(knn_best_model, X, y, 'KNN Regressor (Tuned)')\n",
    "\n",
    "# Gradient Boosting\n",
    "gbr_model = GradientBoostingRegressor()\n",
    "cross_val_scoring(gbr_model, X, y, 'Gradient Boosting Regressor')"
   ]
  },
  {
   "cell_type": "code",
   "execution_count": 8,
   "id": "3d4ce30b-a236-4eb2-bc85-add1ace26155",
   "metadata": {
    "tags": []
   },
   "outputs": [
    {
     "data": {
      "text/html": [
       "<div>\n",
       "<style scoped>\n",
       "    .dataframe tbody tr th:only-of-type {\n",
       "        vertical-align: middle;\n",
       "    }\n",
       "\n",
       "    .dataframe tbody tr th {\n",
       "        vertical-align: top;\n",
       "    }\n",
       "\n",
       "    .dataframe thead th {\n",
       "        text-align: right;\n",
       "    }\n",
       "</style>\n",
       "<table border=\"1\" class=\"dataframe\">\n",
       "  <thead>\n",
       "    <tr style=\"text-align: right;\">\n",
       "      <th></th>\n",
       "      <th>TRANS_DATE</th>\n",
       "      <th>ASHARES</th>\n",
       "      <th>TRANS_PRICEPERSHARE</th>\n",
       "      <th>date_time</th>\n",
       "      <th>YEAR</th>\n",
       "      <th>MONTH</th>\n",
       "      <th>DAY</th>\n",
       "      <th>WEEKDAY</th>\n",
       "      <th>QUARTER</th>\n",
       "      <th>DSHARES</th>\n",
       "    </tr>\n",
       "  </thead>\n",
       "  <tbody>\n",
       "    <tr>\n",
       "      <th>0</th>\n",
       "      <td>2013-01-05</td>\n",
       "      <td>529282.00</td>\n",
       "      <td>15.449495</td>\n",
       "      <td>2013-01-05</td>\n",
       "      <td>2013</td>\n",
       "      <td>1</td>\n",
       "      <td>5</td>\n",
       "      <td>5</td>\n",
       "      <td>1</td>\n",
       "      <td>3484.0</td>\n",
       "    </tr>\n",
       "    <tr>\n",
       "      <th>1</th>\n",
       "      <td>2013-01-09</td>\n",
       "      <td>12618167.77</td>\n",
       "      <td>17.557271</td>\n",
       "      <td>2013-01-09</td>\n",
       "      <td>2013</td>\n",
       "      <td>1</td>\n",
       "      <td>9</td>\n",
       "      <td>2</td>\n",
       "      <td>1</td>\n",
       "      <td>17369599.5</td>\n",
       "    </tr>\n",
       "    <tr>\n",
       "      <th>2</th>\n",
       "      <td>2013-01-25</td>\n",
       "      <td>63190087.04</td>\n",
       "      <td>51.926085</td>\n",
       "      <td>2013-01-25</td>\n",
       "      <td>2013</td>\n",
       "      <td>1</td>\n",
       "      <td>25</td>\n",
       "      <td>4</td>\n",
       "      <td>1</td>\n",
       "      <td>102643438.5</td>\n",
       "    </tr>\n",
       "    <tr>\n",
       "      <th>3</th>\n",
       "      <td>2013-01-30</td>\n",
       "      <td>61029702.77</td>\n",
       "      <td>197924.854822</td>\n",
       "      <td>2013-01-30</td>\n",
       "      <td>2013</td>\n",
       "      <td>1</td>\n",
       "      <td>30</td>\n",
       "      <td>2</td>\n",
       "      <td>1</td>\n",
       "      <td>15432622.0</td>\n",
       "    </tr>\n",
       "    <tr>\n",
       "      <th>4</th>\n",
       "      <td>2013-02-12</td>\n",
       "      <td>63318385.44</td>\n",
       "      <td>113.767843</td>\n",
       "      <td>2013-02-12</td>\n",
       "      <td>2013</td>\n",
       "      <td>2</td>\n",
       "      <td>12</td>\n",
       "      <td>1</td>\n",
       "      <td>1</td>\n",
       "      <td>4013735.0</td>\n",
       "    </tr>\n",
       "    <tr>\n",
       "      <th>...</th>\n",
       "      <td>...</td>\n",
       "      <td>...</td>\n",
       "      <td>...</td>\n",
       "      <td>...</td>\n",
       "      <td>...</td>\n",
       "      <td>...</td>\n",
       "      <td>...</td>\n",
       "      <td>...</td>\n",
       "      <td>...</td>\n",
       "      <td>...</td>\n",
       "    </tr>\n",
       "    <tr>\n",
       "      <th>495</th>\n",
       "      <td>2023-08-12</td>\n",
       "      <td>1732008.00</td>\n",
       "      <td>80.567123</td>\n",
       "      <td>2023-08-12</td>\n",
       "      <td>2023</td>\n",
       "      <td>8</td>\n",
       "      <td>12</td>\n",
       "      <td>5</td>\n",
       "      <td>3</td>\n",
       "      <td>1.5</td>\n",
       "    </tr>\n",
       "    <tr>\n",
       "      <th>496</th>\n",
       "      <td>2023-08-16</td>\n",
       "      <td>65048517.24</td>\n",
       "      <td>63.490153</td>\n",
       "      <td>2023-08-16</td>\n",
       "      <td>2023</td>\n",
       "      <td>8</td>\n",
       "      <td>16</td>\n",
       "      <td>2</td>\n",
       "      <td>3</td>\n",
       "      <td>10730.0</td>\n",
       "    </tr>\n",
       "    <tr>\n",
       "      <th>497</th>\n",
       "      <td>2023-08-20</td>\n",
       "      <td>659387.00</td>\n",
       "      <td>16.964496</td>\n",
       "      <td>2023-08-20</td>\n",
       "      <td>2023</td>\n",
       "      <td>8</td>\n",
       "      <td>20</td>\n",
       "      <td>6</td>\n",
       "      <td>3</td>\n",
       "      <td>1.0</td>\n",
       "    </tr>\n",
       "    <tr>\n",
       "      <th>498</th>\n",
       "      <td>2023-08-21</td>\n",
       "      <td>23403723.99</td>\n",
       "      <td>74.239318</td>\n",
       "      <td>2023-08-21</td>\n",
       "      <td>2023</td>\n",
       "      <td>8</td>\n",
       "      <td>21</td>\n",
       "      <td>0</td>\n",
       "      <td>3</td>\n",
       "      <td>18372.0</td>\n",
       "    </tr>\n",
       "    <tr>\n",
       "      <th>499</th>\n",
       "      <td>2023-08-23</td>\n",
       "      <td>28574239.77</td>\n",
       "      <td>77.406433</td>\n",
       "      <td>2023-08-23</td>\n",
       "      <td>2023</td>\n",
       "      <td>8</td>\n",
       "      <td>23</td>\n",
       "      <td>2</td>\n",
       "      <td>3</td>\n",
       "      <td>51716.5</td>\n",
       "    </tr>\n",
       "  </tbody>\n",
       "</table>\n",
       "<p>500 rows × 10 columns</p>\n",
       "</div>"
      ],
      "text/plain": [
       "     TRANS_DATE      ASHARES  TRANS_PRICEPERSHARE  date_time  YEAR  MONTH  \\\n",
       "0    2013-01-05    529282.00            15.449495 2013-01-05  2013      1   \n",
       "1    2013-01-09  12618167.77            17.557271 2013-01-09  2013      1   \n",
       "2    2013-01-25  63190087.04            51.926085 2013-01-25  2013      1   \n",
       "3    2013-01-30  61029702.77        197924.854822 2013-01-30  2013      1   \n",
       "4    2013-02-12  63318385.44           113.767843 2013-02-12  2013      2   \n",
       "..          ...          ...                  ...        ...   ...    ...   \n",
       "495  2023-08-12   1732008.00            80.567123 2023-08-12  2023      8   \n",
       "496  2023-08-16  65048517.24            63.490153 2023-08-16  2023      8   \n",
       "497  2023-08-20    659387.00            16.964496 2023-08-20  2023      8   \n",
       "498  2023-08-21  23403723.99            74.239318 2023-08-21  2023      8   \n",
       "499  2023-08-23  28574239.77            77.406433 2023-08-23  2023      8   \n",
       "\n",
       "     DAY  WEEKDAY  QUARTER      DSHARES  \n",
       "0      5        5        1       3484.0  \n",
       "1      9        2        1   17369599.5  \n",
       "2     25        4        1  102643438.5  \n",
       "3     30        2        1   15432622.0  \n",
       "4     12        1        1    4013735.0  \n",
       "..   ...      ...      ...          ...  \n",
       "495   12        5        3          1.5  \n",
       "496   16        2        3      10730.0  \n",
       "497   20        6        3          1.0  \n",
       "498   21        0        3      18372.0  \n",
       "499   23        2        3      51716.5  \n",
       "\n",
       "[500 rows x 10 columns]"
      ]
     },
     "execution_count": 8,
     "metadata": {},
     "output_type": "execute_result"
    }
   ],
   "source": [
    "# KNN regressor was used because decision tree (originally rank first place) failed to produce meaningful predictions\n",
    "# instead, it predicts repeating outputs.\n",
    "X_test = test[['YEAR', 'MONTH', 'DAY', 'WEEKDAY', 'QUARTER', 'ASHARES', 'TRANS_PRICEPERSHARE']]\n",
    "X_test = StandardScaler().fit_transform(X_test)\n",
    "knn_best_model.fit(X, y)\n",
    "y_test_pred = knn_best_model.predict(X_test)\n",
    "test['DSHARES'] = y_test_pred\n",
    "test"
   ]
  },
  {
   "cell_type": "code",
   "execution_count": 9,
   "id": "b80493f2-9bf0-4b82-9e5a-b9c715b0aea7",
   "metadata": {
    "tags": []
   },
   "outputs": [],
   "source": [
    "selected_columns = test[['TRANS_DATE', 'DSHARES']]\n",
    "selected_columns.to_csv('Part 3A.csv', index=False)"
   ]
  },
  {
   "cell_type": "code",
   "execution_count": 10,
   "id": "ca1c4aa8-bda7-409d-92f0-b83da17c1b42",
   "metadata": {
    "tags": []
   },
   "outputs": [
    {
     "data": {
      "text/plain": [
       "[6.55971065259573,\n",
       " 2.146636713486078,\n",
       " 2.760415721846041,\n",
       " 5.131663263295438,\n",
       " 2.4615374881479837,\n",
       " 5.622073040046853]"
      ]
     },
     "execution_count": 10,
     "metadata": {},
     "output_type": "execute_result"
    }
   ],
   "source": [
    "M = sorted(errors)[1]\n",
    "# Choose the corresponding error for random forest\n",
    "errors"
   ]
  },
  {
   "cell_type": "markdown",
   "id": "35afb6aa-f8e3-47c3-bbf8-b49e93ed6606",
   "metadata": {},
   "source": [
    "In the following cell assign a value to the variable **M**."
   ]
  },
  {
   "cell_type": "code",
   "execution_count": 11,
   "id": "b892cf7e-65f8-4ba5-895b-ae4f05db4a41",
   "metadata": {
    "tags": []
   },
   "outputs": [
    {
     "name": "stdout",
     "output_type": "stream",
     "text": [
      "2.4615374881479837\n"
     ]
    }
   ],
   "source": [
    "# Print cell for M - do not modify or delete this line\n",
    "# Do execute it\n",
    "print(M)"
   ]
  },
  {
   "cell_type": "markdown",
   "id": "06158f3a-8730-4def-9d7b-1e755197e5fd",
   "metadata": {},
   "source": [
    "**Make sure you successfully print the value of M in the cell above**\n",
    "\n",
    "**Make sure you save your notebook before submitting it**"
   ]
  }
 ],
 "metadata": {
  "kernelspec": {
   "display_name": "Python 3 (ipykernel)",
   "language": "python",
   "name": "python3"
  },
  "language_info": {
   "codemirror_mode": {
    "name": "ipython",
    "version": 3
   },
   "file_extension": ".py",
   "mimetype": "text/x-python",
   "name": "python",
   "nbconvert_exporter": "python",
   "pygments_lexer": "ipython3",
   "version": "3.11.4"
  }
 },
 "nbformat": 4,
 "nbformat_minor": 5
}
