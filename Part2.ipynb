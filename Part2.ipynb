{
 "cells": [
  {
   "cell_type": "markdown",
   "id": "45f72e0b-e265-4a53-a218-c0e85d08481a",
   "metadata": {},
   "source": [
    "**All 19 problems are given equal weight but if you mess up a problem that is needed to be done correctly for some later problem you may lose points on both - so be careful!!**\n",
    "\n",
    "**Execute the following cell so that you don't have to import any packages later**"
   ]
  },
  {
   "cell_type": "code",
   "execution_count": 1,
   "id": "f88f383a-ae99-4833-81be-f93e84c94289",
   "metadata": {
    "tags": []
   },
   "outputs": [],
   "source": [
    "# Do not delete or modify this cell\n",
    "# Do execute it\n",
    "import numpy as np\n",
    "import pandas as pd\n",
    "import datetime\n",
    "import re"
   ]
  },
  {
   "cell_type": "markdown",
   "id": "6bde68bc-e869-4ebb-820b-3a31f15d92ec",
   "metadata": {},
   "source": [
    "**Problem 1.**\n",
    "\n",
    "In the following cell, create a pandas data frame called **df** using the data in the PFE.csv file and convert the data type of the TransDate column to pandas datetimes."
   ]
  },
  {
   "cell_type": "code",
   "execution_count": 2,
   "id": "4ff52df7-0788-43c9-a7b7-03463757af2b",
   "metadata": {
    "tags": []
   },
   "outputs": [],
   "source": [
    "# Code cell for Problem 1 - do not delete or modify this line\n",
    "df = pd.read_csv('PFE.csv')\n",
    "df['TransDate'] = pd.to_datetime(df['TransDate'])"
   ]
  },
  {
   "cell_type": "markdown",
   "id": "70085f2d-362a-4dce-b020-a021ecbbf0cb",
   "metadata": {},
   "source": [
    "**Problem 2**\n",
    "\n",
    "In the following cell create a histogram of the Shares column"
   ]
  },
  {
   "cell_type": "code",
   "execution_count": 3,
   "id": "cce09f89-003c-4ff0-8978-ed1c88e9c86a",
   "metadata": {
    "tags": []
   },
   "outputs": [
    {
     "data": {
      "text/plain": [
       "<Axes: >"
      ]
     },
     "execution_count": 3,
     "metadata": {},
     "output_type": "execute_result"
    },
    {
     "data": {
      "image/png": "[encoded data removed]",
      "text/plain": [
       "<Figure size 640x480 with 1 Axes>"
      ]
     },
     "metadata": {},
     "output_type": "display_data"
    }
   ],
   "source": [
    "# Code cell for Problem 2 - do not delete or modify this line.\n",
    "df[\"Shares\"].hist()"
   ]
  },
  {
   "cell_type": "markdown",
   "id": "03107a6f-2876-4091-b535-c2710bb47604",
   "metadata": {},
   "source": [
    "**Problem 3** \n",
    "\n",
    "The last histogram is problematic. Make a histogram of log(1+Shares) in the following cell."
   ]
  },
  {
   "cell_type": "code",
   "execution_count": 4,
   "id": "8815cc40-6aa0-4b0e-b386-768161d941eb",
   "metadata": {
    "tags": []
   },
   "outputs": [
    {
     "data": {
      "text/plain": [
       "<Axes: >"
      ]
     },
     "execution_count": 4,
     "metadata": {},
     "output_type": "execute_result"
    },
    {
     "data": {
      "image/png": "[encoded data removed]",
      "text/plain": [
       "<Figure size 640x480 with 1 Axes>"
      ]
     },
     "metadata": {},
     "output_type": "display_data"
    }
   ],
   "source": [
    "# Code cell for Problem 3 - do not delete or modify this line.\n",
    "np.log1p(df['Shares']).hist()"
   ]
  },
  {
   "cell_type": "markdown",
   "id": "a4f0c1d9-27d3-456f-be54-9b6851270df1",
   "metadata": {},
   "source": [
    "**Problem 4**\n",
    "\n",
    "In the following code cell, print a pandas series with the OwnerName corresponding to the 25 largest values of Shares in the data frame."
   ]
  },
  {
   "cell_type": "code",
   "execution_count": 5,
   "id": "8db2894d-8c8a-468b-80aa-51422947a429",
   "metadata": {
    "tags": []
   },
   "outputs": [
    {
     "data": {
      "text/plain": [
       "387              PFIZER INC\n",
       "386              PFIZER INC\n",
       "381              PFIZER INC\n",
       "382              PFIZER INC\n",
       "402              PFIZER INC\n",
       "383              PFIZER INC\n",
       "401              PFIZER INC\n",
       "380              PFIZER INC\n",
       "392              PFIZER INC\n",
       "390              PFIZER INC\n",
       "403              PFIZER INC\n",
       "1181             PFIZER INC\n",
       "406              PFIZER INC\n",
       "397              PFIZER INC\n",
       "385              PFIZER INC\n",
       "170     STEERE WILLIAM C JR\n",
       "408              PFIZER INC\n",
       "1362             READ IAN C\n",
       "399              PFIZER INC\n",
       "182     STEERE WILLIAM C JR\n",
       "183     STEERE WILLIAM C JR\n",
       "169     STEERE WILLIAM C JR\n",
       "1405             READ IAN C\n",
       "1182             PFIZER INC\n",
       "1611             READ IAN C\n",
       "Name: OwnerName, dtype: object"
      ]
     },
     "execution_count": 5,
     "metadata": {},
     "output_type": "execute_result"
    }
   ],
   "source": [
    "# Code cell for Problem 4 - do not remove or modify this line\n",
    "owners = df.nlargest(25, 'Shares')['OwnerName']\n",
    "owners"
   ]
  },
  {
   "cell_type": "markdown",
   "id": "2919440e-f175-4321-9e34-c842de1d9317",
   "metadata": {},
   "source": [
    "**Problem 5**\n",
    "\n",
    "We're only interested in transactions corresponding to a person. Write a function **pfizer_substring** that takes as input a string and outputs True if the input string contains \"pfizer\" as a substring (without the quotation marks). **You should make your test case insensitive.**"
   ]
  },
  {
   "cell_type": "code",
   "execution_count": 6,
   "id": "12aad4fa-aaa0-43b7-8293-d7dbc04d8cbd",
   "metadata": {
    "tags": []
   },
   "outputs": [],
   "source": [
    "# Code cell for Problem 5 - do not delete or modify this line\n",
    "def pfizer_substring(x):\n",
    "    return 'pfizer' in x.lower()"
   ]
  },
  {
   "cell_type": "code",
   "execution_count": 7,
   "id": "ea9d9d5b-a13c-4a83-b976-3c1307cf694f",
   "metadata": {
    "tags": []
   },
   "outputs": [
    {
     "name": "stdout",
     "output_type": "stream",
     "text": [
      "True\n",
      "False\n",
      "True\n"
     ]
    }
   ],
   "source": [
    "# Test cell for Problem 5 - do not delete or modify this cell\n",
    "# Do execute it\n",
    "print(pfizer_substring(\"JOE PFIZER SMITH\"))\n",
    "print(pfizer_substring(\"PFEIZER\"))\n",
    "print(pfizer_substring(\"PfIZER\"))"
   ]
  },
  {
   "cell_type": "markdown",
   "id": "6489ec38-fa53-4f1e-a952-37f87c6709eb",
   "metadata": {},
   "source": [
    "**Problem 6**\n",
    "\n",
    "Use the function you created in Problem 5 to create a new data frame that contains all rows in the previous data frame whose OwnerName does not contain \"pfizer\" as a substring (case insensitive).\n",
    "\n",
    "Call your new dataframe **df2.**"
   ]
  },
  {
   "cell_type": "code",
   "execution_count": 8,
   "id": "a3c51ffa-cab2-4287-8ccb-721da666847a",
   "metadata": {
    "tags": []
   },
   "outputs": [],
   "source": [
    "# Code cell for Problem 6 - do not delete or modify this line\n",
    "df2 = df[~df['OwnerName'].apply(pfizer_substring)]"
   ]
  },
  {
   "cell_type": "code",
   "execution_count": 9,
   "id": "4963ff2f-f52d-483b-b6b4-497fe4dfdc6e",
   "metadata": {
    "tags": []
   },
   "outputs": [
    {
     "name": "stdout",
     "output_type": "stream",
     "text": [
      "(2370, 12)\n"
     ]
    }
   ],
   "source": [
    "# Test cell for Problem 6 - do not delete or modify this cell\n",
    "# Do execute it\n",
    "print(df2.shape)"
   ]
  },
  {
   "cell_type": "markdown",
   "id": "06342579-7e86-47d3-94ae-725a14c5afe3",
   "metadata": {},
   "source": [
    "**From this point on, all questions will be based on the data in df2 i.e. all transactions in which Pfizer is the owner should be ignored**"
   ]
  },
  {
   "cell_type": "markdown",
   "id": "20e34dbd-e750-4280-aace-723528236285",
   "metadata": {},
   "source": [
    "**Problem 7**\n",
    "\n",
    "Write a function called **df_summary** that takes as input \n",
    "\n",
    "- a **data frame** all of whose transaction dates are identical and having the same columns as df2 (think of this as the result of selecting all rows in df2 with a  particular TransDate) \n",
    "\n",
    "and that outputs \n",
    "\n",
    "- a **dictionary** whose keys correspond to the owner names appearing in the input data frame, and whose value for some key is a 3-tuple with \n",
    "> - the 0th entry of the 3-tuple should be a list of the Shares for transactions for that owner on that date\n",
    "> - the 1th entry of the 3-tuple should be a list containing the price per share for each transaction in the list making up the 0th entry list (using the same order)\n",
    "> - the 2-th entry of the 3-tuple should be a list of the ADCodes corresponding to each transaction in the 0th entry list (using the same order)\n"
   ]
  },
  {
   "cell_type": "code",
   "execution_count": 10,
   "id": "bc839cfd-2d1b-4469-a3c7-0537e0b9907f",
   "metadata": {
    "tags": []
   },
   "outputs": [],
   "source": [
    "# Code cell for Problem 7 - do not delete or modify this line \n",
    "def df_summary(dt):\n",
    "    summary = dict()\n",
    "    for owner in dt['OwnerName'].unique():\n",
    "        owner_data = dt[dt['OwnerName'] == owner]\n",
    "        shares = owner_data['Shares'].tolist()\n",
    "        prices = owner_data['PPS'].tolist()\n",
    "        adcodes = owner_data['ADCode'].tolist()\n",
    "        summary[owner] = (shares, prices, adcodes)\n",
    "    return summary"
   ]
  },
  {
   "cell_type": "code",
   "execution_count": 11,
   "id": "a14a0ee5-8795-4987-a192-ea766b1336e0",
   "metadata": {
    "tags": []
   },
   "outputs": [
    {
     "data": {
      "text/plain": [
       "{'CANGIALOSI LORETTA V': ([13560.0, 1175.0], [0.0, 37.15], ['A', 'D']),\n",
       " 'CORR PETER B': ([35460.0], [0.0], ['A']),\n",
       " 'HARDWICK CHARLES L': ([15480.0], [0.0], ['A']),\n",
       " 'KATEN KAREN L': ([40680.0, 16049.0], [0.0, 37.15], ['A', 'D']),\n",
       " 'KINDLER JEFFREY B': ([23100.0], [0.0], ['A']),\n",
       " 'MCKINNELL HENRY A': ([75060.0], [0.0], ['A']),\n",
       " 'MITCHELL JOHN W': ([18810.0], [0.0], ['A']),\n",
       " 'SHEDLARZ DAVID L': ([32760.0, 12924.0], [0.0, 37.15], ['A', 'D']),\n",
       " 'LAMATTINA JOHN L': ([17910.0, 5633.0], [0.0, 37.15], ['A', 'D'])}"
      ]
     },
     "execution_count": 11,
     "metadata": {},
     "output_type": "execute_result"
    }
   ],
   "source": [
    "# Test cell for Problem 7 - do not delete or modify this cell\n",
    "# Do execute it\n",
    "g=df2.groupby(\"TransDate\")\n",
    "dt=g.get_group(\"2004-02-26\")\n",
    "df_summary(dt)"
   ]
  },
  {
   "cell_type": "markdown",
   "id": "a0fb6a34-c82e-4d92-bd51-1060bede0e8a",
   "metadata": {},
   "source": [
    "**Problem 8**\n",
    "\n",
    "Use the function in Problem 7 to create a series **df2** called **TransDateSummary** that has a row for each date in which there is at least one non-derivative transaction, whose index consists of the transaction dates and whose values are the dictionaries produced by the function in Problem 7 for every transaction date.\n",
    "Try to make your code use as few lines as possible. (Aim for at most 2!!!)"
   ]
  },
  {
   "cell_type": "code",
   "execution_count": 12,
   "id": "342f7247-1126-4920-a6e2-f2c6a4e38285",
   "metadata": {
    "tags": []
   },
   "outputs": [],
   "source": [
    "# Code cell for Problem 8 - do not delete or modify this line \n",
    "TransDateSummary = df2.groupby('TransDate').apply(df_summary)"
   ]
  },
  {
   "cell_type": "markdown",
   "id": "2837c6de-88c3-48a3-b799-1747c1700162",
   "metadata": {},
   "source": [
    "**Problem 9**\n",
    "\n",
    "Use your series in Problem 8 to create a data frame called **TransDateSummaryDF** \n",
    "with\n",
    "\n",
    "- 0,1,2,.... and has two columns:\n",
    "- a column called **TDate** with the transaction dates in the TransDateSummary index, **converted to datetime** using the pd.to_datetime function, ordered from first to last date\n",
    "- a column of values called **TDSummary** that consists of the corresponding dictionaries in the series."
   ]
  },
  {
   "cell_type": "code",
   "execution_count": 13,
   "id": "269cd324-a77b-4762-8338-7f6f16630611",
   "metadata": {
    "tags": []
   },
   "outputs": [],
   "source": [
    "# Code cell for Problem 9 - do not delete or modify this line \n",
    "TransDateSummaryDF = pd.DataFrame({\n",
    "    'TDate': pd.to_datetime(TransDateSummary.index),\n",
    "    'TDSummary': TransDateSummary.values})"
   ]
  },
  {
   "cell_type": "code",
   "execution_count": 14,
   "id": "dc0fcc8a-6901-4597-adbe-f90871f979dd",
   "metadata": {
    "tags": []
   },
   "outputs": [
    {
     "name": "stdout",
     "output_type": "stream",
     "text": [
      "TDate                                  2009-02-27 00:00:00\n",
      "TDSummary    {'SUSMAN SALLY': ([10835.0], [12.31], ['D'])}\n",
      "Name: 123, dtype: object\n",
      "TDate                                      2007-01-31 00:00:00\n",
      "TDSummary    {'KINDLER JEFFREY B': ([7660.0], [0.0], ['D'])...\n",
      "Name: 78, dtype: object\n",
      "TDate                                      2015-12-03 00:00:00\n",
      "TDSummary    {'CANGIALOSI LORETTA V': ([330.0], [0.0], ['D'])}\n",
      "Name: 234, dtype: object\n",
      "TDate                              2019-11-29 00:00:00\n",
      "TDSummary    {'Hwang Angela': ([216.0], [0.0], ['D'])}\n",
      "Name: 319, dtype: object\n"
     ]
    }
   ],
   "source": [
    "# Test cell1 for Problem 9 - do not delete or modify this cell\n",
    "# Do execute it\n",
    "print(TransDateSummaryDF.iloc[123])\n",
    "print(TransDateSummaryDF.iloc[78])\n",
    "print(TransDateSummaryDF.iloc[234])\n",
    "print(TransDateSummaryDF.iloc[319])"
   ]
  },
  {
   "cell_type": "markdown",
   "id": "48a8637d-9deb-4267-be6f-b6101b4c1355",
   "metadata": {
    "tags": []
   },
   "source": [
    "**Problem 10**\n",
    "\n",
    "Do any of the owners status (director, officer, ten percent owner) every change?\n",
    "\n",
    "Make a list called ***SummaryOfChanges** that summarizes all such changes. \n",
    "\n",
    "Your list should contain a 4-tuple for each instance in which, for some owner the status variable that changed on some transaction date and differs for that owner from the status on the most recent preceding transaction date.\n",
    "The tuple should contain:\n",
    "\n",
    "- owner name\n",
    "- transaction date when status changed\n",
    "- name of status (\"IsDir\",\"IsOff\",\"IsTen\") that changed\n",
    "- value of status on the date when the change took place\n",
    "\n",
    "You should do this with the data frame for which PFIZER is not the owner.\n",
    "\n",
    "Use the following cell for your code."
   ]
  },
  {
   "cell_type": "code",
   "execution_count": 15,
   "id": "04247015-b325-47dc-9981-d615af4b418c",
   "metadata": {
    "tags": []
   },
   "outputs": [
    {
     "data": {
      "text/plain": [
       "[('MCKINNELL HENRY A', Timestamp('2006-08-02 00:00:00'), 'IsOff', 0),\n",
       " ('KINDLER JEFFREY B', Timestamp('2006-09-05 00:00:00'), 'IsDir', 1),\n",
       " ('READ IAN C', Timestamp('2011-02-24 00:00:00'), 'IsDir', 1),\n",
       " ('BOURLA ALBERT', Timestamp('2018-02-24 00:00:00'), 'IsDir', 1)]"
      ]
     },
     "execution_count": 15,
     "metadata": {},
     "output_type": "execute_result"
    }
   ],
   "source": [
    "# Code cell for Problem 10 - do not delete or modify this line\n",
    "status_columns = ['IsDir', 'IsOff', 'IsTen']\n",
    "SummaryOfChanges = []\n",
    "for owner in df2['OwnerName'].unique():\n",
    "    owner_data = df2[df2['OwnerName'] == owner]\n",
    "    for i in range(1, len(owner_data)):\n",
    "        current_row = owner_data.iloc[i]\n",
    "        previous_row = owner_data.iloc[i-1]\n",
    "        for status in status_columns:\n",
    "            if current_row[status] != previous_row[status]:\n",
    "                SummaryOfChanges.append((owner, current_row['TransDate'], status, current_row[status]))\n",
    "SummaryOfChanges[:5]"
   ]
  },
  {
   "cell_type": "code",
   "execution_count": 16,
   "id": "e3820035-84ae-41f8-b777-8fa05298805f",
   "metadata": {
    "tags": []
   },
   "outputs": [
    {
     "name": "stdout",
     "output_type": "stream",
     "text": [
      "4\n",
      "('MCKINNELL HENRY A', Timestamp('2006-08-02 00:00:00'), 'IsOff', 0)\n",
      "('KINDLER JEFFREY B', Timestamp('2006-09-05 00:00:00'), 'IsDir', 1)\n",
      "('READ IAN C', Timestamp('2011-02-24 00:00:00'), 'IsDir', 1)\n",
      "('BOURLA ALBERT', Timestamp('2018-02-24 00:00:00'), 'IsDir', 1)\n"
     ]
    }
   ],
   "source": [
    "# Test cell for Problem 10 - do not delete or modify this cell\n",
    "# Do execute it\n",
    "print(len(SummaryOfChanges))\n",
    "for x in SummaryOfChanges:\n",
    "    print(x)"
   ]
  },
  {
   "cell_type": "markdown",
   "id": "503214cc-044b-43d0-963c-df78d5cdb23f",
   "metadata": {},
   "source": [
    "**Problem 11**\n",
    "\n",
    "Create a dataframe called **df3** containing a row for each date on which a transaction took place with the following columns:\n",
    "\n",
    "- **tdate** = transaction date\\\n",
    "- **dayoweek** = which day of the week did the transaction take place on (\"Mon\",\"Tue\",\"Wed\",\"Thu\",\"Fri\",\"Sat\",\"Sun\")\n",
    "- **month** = month in which transaction took place \n",
    "(\"Jan\",\"Feb\",\"Mar\",\"Apr\",\"May\",\"Jun\",\"Jul\",\"Aug\",\"Sep\",\"Oct\",\"Nov\",\"Dec\")\n",
    "- **day** = day number in which transaction took place e.g. for July 23, 2003 the day would be 23\n",
    "- **year** = year of transaction date \n",
    "- **ntrans** = number of transactions on that date i.e. number of rows in df2 with this transaction date\n",
    "- **ashares** = total number of shares acquired on that date\n",
    "- **atrans** = total number of transactions on that date that in which shares were acquired\n",
    "- **dshares** = total number of shares disposed of on that date\n",
    "- **dtrans** total number of transactions on that date in which shares were disposed of\n",
    "- **nowners** total number of owners who had transactions on that date\n",
    "\n",
    "Make your dataframe sorted by tdate, and make the index 0,1,2,..."
   ]
  },
  {
   "cell_type": "code",
   "execution_count": 17,
   "id": "563eb679-27d4-4a74-a152-19ec141b4ac7",
   "metadata": {
    "tags": []
   },
   "outputs": [
    {
     "data": {
      "text/html": [
       "<div>\n",
       "<style scoped>\n",
       "    .dataframe tbody tr th:only-of-type {\n",
       "        vertical-align: middle;\n",
       "    }\n",
       "\n",
       "    .dataframe tbody tr th {\n",
       "        vertical-align: top;\n",
       "    }\n",
       "\n",
       "    .dataframe thead th {\n",
       "        text-align: right;\n",
       "    }\n",
       "</style>\n",
       "<table border=\"1\" class=\"dataframe\">\n",
       "  <thead>\n",
       "    <tr style=\"text-align: right;\">\n",
       "      <th></th>\n",
       "      <th>tdate</th>\n",
       "      <th>dayoweek</th>\n",
       "      <th>month</th>\n",
       "      <th>day</th>\n",
       "      <th>year</th>\n",
       "      <th>ntrans</th>\n",
       "      <th>ashares</th>\n",
       "      <th>atrans</th>\n",
       "      <th>dshares</th>\n",
       "      <th>dtrans</th>\n",
       "      <th>nowners</th>\n",
       "    </tr>\n",
       "  </thead>\n",
       "  <tbody>\n",
       "    <tr>\n",
       "      <th>0</th>\n",
       "      <td>2003-07-30</td>\n",
       "      <td>Wed</td>\n",
       "      <td>Jul</td>\n",
       "      <td>30</td>\n",
       "      <td>2003</td>\n",
       "      <td>1</td>\n",
       "      <td>19044.0</td>\n",
       "      <td>1</td>\n",
       "      <td>0.0</td>\n",
       "      <td>0</td>\n",
       "      <td>1</td>\n",
       "    </tr>\n",
       "    <tr>\n",
       "      <th>1</th>\n",
       "      <td>2003-08-20</td>\n",
       "      <td>Wed</td>\n",
       "      <td>Aug</td>\n",
       "      <td>20</td>\n",
       "      <td>2003</td>\n",
       "      <td>1</td>\n",
       "      <td>0.0</td>\n",
       "      <td>0</td>\n",
       "      <td>61.0</td>\n",
       "      <td>1</td>\n",
       "      <td>1</td>\n",
       "    </tr>\n",
       "    <tr>\n",
       "      <th>2</th>\n",
       "      <td>2003-08-27</td>\n",
       "      <td>Wed</td>\n",
       "      <td>Aug</td>\n",
       "      <td>27</td>\n",
       "      <td>2003</td>\n",
       "      <td>2</td>\n",
       "      <td>3600.0</td>\n",
       "      <td>1</td>\n",
       "      <td>682.0</td>\n",
       "      <td>1</td>\n",
       "      <td>1</td>\n",
       "    </tr>\n",
       "    <tr>\n",
       "      <th>3</th>\n",
       "      <td>2003-10-02</td>\n",
       "      <td>Thu</td>\n",
       "      <td>Oct</td>\n",
       "      <td>2</td>\n",
       "      <td>2003</td>\n",
       "      <td>8</td>\n",
       "      <td>73225.0</td>\n",
       "      <td>4</td>\n",
       "      <td>18793.0</td>\n",
       "      <td>4</td>\n",
       "      <td>1</td>\n",
       "    </tr>\n",
       "    <tr>\n",
       "      <th>4</th>\n",
       "      <td>2003-10-06</td>\n",
       "      <td>Mon</td>\n",
       "      <td>Oct</td>\n",
       "      <td>6</td>\n",
       "      <td>2003</td>\n",
       "      <td>2</td>\n",
       "      <td>20109.0</td>\n",
       "      <td>1</td>\n",
       "      <td>1597.0</td>\n",
       "      <td>1</td>\n",
       "      <td>1</td>\n",
       "    </tr>\n",
       "    <tr>\n",
       "      <th>...</th>\n",
       "      <td>...</td>\n",
       "      <td>...</td>\n",
       "      <td>...</td>\n",
       "      <td>...</td>\n",
       "      <td>...</td>\n",
       "      <td>...</td>\n",
       "      <td>...</td>\n",
       "      <td>...</td>\n",
       "      <td>...</td>\n",
       "      <td>...</td>\n",
       "      <td>...</td>\n",
       "    </tr>\n",
       "    <tr>\n",
       "      <th>371</th>\n",
       "      <td>2023-03-15</td>\n",
       "      <td>Wed</td>\n",
       "      <td>Mar</td>\n",
       "      <td>15</td>\n",
       "      <td>2023</td>\n",
       "      <td>1</td>\n",
       "      <td>0.0</td>\n",
       "      <td>0</td>\n",
       "      <td>9912.0</td>\n",
       "      <td>1</td>\n",
       "      <td>1</td>\n",
       "    </tr>\n",
       "    <tr>\n",
       "      <th>372</th>\n",
       "      <td>2023-03-31</td>\n",
       "      <td>Fri</td>\n",
       "      <td>Mar</td>\n",
       "      <td>31</td>\n",
       "      <td>2023</td>\n",
       "      <td>1</td>\n",
       "      <td>0.0</td>\n",
       "      <td>0</td>\n",
       "      <td>22095.0</td>\n",
       "      <td>1</td>\n",
       "      <td>1</td>\n",
       "    </tr>\n",
       "    <tr>\n",
       "      <th>373</th>\n",
       "      <td>2023-05-05</td>\n",
       "      <td>Fri</td>\n",
       "      <td>May</td>\n",
       "      <td>5</td>\n",
       "      <td>2023</td>\n",
       "      <td>1</td>\n",
       "      <td>1000.0</td>\n",
       "      <td>1</td>\n",
       "      <td>0.0</td>\n",
       "      <td>0</td>\n",
       "      <td>1</td>\n",
       "    </tr>\n",
       "    <tr>\n",
       "      <th>374</th>\n",
       "      <td>2023-05-08</td>\n",
       "      <td>Mon</td>\n",
       "      <td>May</td>\n",
       "      <td>8</td>\n",
       "      <td>2023</td>\n",
       "      <td>1</td>\n",
       "      <td>1000.0</td>\n",
       "      <td>1</td>\n",
       "      <td>0.0</td>\n",
       "      <td>0</td>\n",
       "      <td>1</td>\n",
       "    </tr>\n",
       "    <tr>\n",
       "      <th>375</th>\n",
       "      <td>2023-05-31</td>\n",
       "      <td>Wed</td>\n",
       "      <td>May</td>\n",
       "      <td>31</td>\n",
       "      <td>2023</td>\n",
       "      <td>1</td>\n",
       "      <td>0.0</td>\n",
       "      <td>0</td>\n",
       "      <td>16223.0</td>\n",
       "      <td>1</td>\n",
       "      <td>1</td>\n",
       "    </tr>\n",
       "  </tbody>\n",
       "</table>\n",
       "<p>376 rows × 11 columns</p>\n",
       "</div>"
      ],
      "text/plain": [
       "         tdate dayoweek month  day  year  ntrans  ashares  atrans  dshares  \\\n",
       "0   2003-07-30      Wed   Jul   30  2003       1  19044.0       1      0.0   \n",
       "1   2003-08-20      Wed   Aug   20  2003       1      0.0       0     61.0   \n",
       "2   2003-08-27      Wed   Aug   27  2003       2   3600.0       1    682.0   \n",
       "3   2003-10-02      Thu   Oct    2  2003       8  73225.0       4  18793.0   \n",
       "4   2003-10-06      Mon   Oct    6  2003       2  20109.0       1   1597.0   \n",
       "..         ...      ...   ...  ...   ...     ...      ...     ...      ...   \n",
       "371 2023-03-15      Wed   Mar   15  2023       1      0.0       0   9912.0   \n",
       "372 2023-03-31      Fri   Mar   31  2023       1      0.0       0  22095.0   \n",
       "373 2023-05-05      Fri   May    5  2023       1   1000.0       1      0.0   \n",
       "374 2023-05-08      Mon   May    8  2023       1   1000.0       1      0.0   \n",
       "375 2023-05-31      Wed   May   31  2023       1      0.0       0  16223.0   \n",
       "\n",
       "     dtrans  nowners  \n",
       "0         0        1  \n",
       "1         1        1  \n",
       "2         1        1  \n",
       "3         4        1  \n",
       "4         1        1  \n",
       "..      ...      ...  \n",
       "371       1        1  \n",
       "372       1        1  \n",
       "373       0        1  \n",
       "374       0        1  \n",
       "375       1        1  \n",
       "\n",
       "[376 rows x 11 columns]"
      ]
     },
     "execution_count": 17,
     "metadata": {},
     "output_type": "execute_result"
    }
   ],
   "source": [
    "# Code cell for Problem 11 - do not delete or modify this line\n",
    "def summarize_date(dt):\n",
    "    tdate = dt['TransDate'].iloc[0]\n",
    "    summary = {\n",
    "        'tdate': tdate,\n",
    "        'dayoweek': tdate.strftime('%a'),\n",
    "        'month': tdate.strftime('%b'),\n",
    "        'day': tdate.day,\n",
    "        'year': tdate.year,\n",
    "        'ntrans': len(dt),\n",
    "        'ashares': dt[dt['ADCode'] == 'A']['Shares'].sum(),\n",
    "        'atrans': len(dt[dt['ADCode'] == 'A']),\n",
    "        'dshares': dt[dt['ADCode'] == 'D']['Shares'].sum(),\n",
    "        'dtrans': len(dt[dt['ADCode'] == 'D']),\n",
    "        'nowners': len(dt['OwnerName'].unique())}\n",
    "    return summary\n",
    "df3 = pd.DataFrame(df2.groupby('TransDate').apply(summarize_date).tolist())\n",
    "df3"
   ]
  },
  {
   "cell_type": "code",
   "execution_count": 18,
   "id": "03cb5776-ecb1-4ebd-acc2-c7dae0ec0835",
   "metadata": {
    "tags": []
   },
   "outputs": [
    {
     "name": "stdout",
     "output_type": "stream",
     "text": [
      "(376, 11)\n",
      "         tdate dayoweek month  day  year  ntrans    ashares  atrans  \\\n",
      "25  2004-06-09      Wed   Jun    9  2004       4     1216.0       2   \n",
      "50  2005-12-15      Thu   Dec   15  2005       1        0.0       0   \n",
      "75  2006-12-22      Fri   Dec   22  2006       1        0.0       0   \n",
      "100 2007-12-31      Mon   Dec   31  2007       1        0.0       0   \n",
      "125 2009-05-11      Mon   May   11  2009       1        0.0       0   \n",
      "150 2010-11-03      Wed   Nov    3  2010       1        0.0       0   \n",
      "175 2012-12-31      Mon   Dec   31  2012       5        0.0       0   \n",
      "200 2014-02-26      Wed   Feb   26  2014      50  1605310.0      25   \n",
      "225 2015-03-05      Thu   Mar    5  2015      34        0.0       0   \n",
      "250 2016-06-30      Thu   Jun   30  2016       1        0.0       0   \n",
      "275 2017-12-08      Fri   Dec    8  2017       1        0.0       0   \n",
      "300 2019-01-30      Wed   Jan   30  2019       8        0.0       0   \n",
      "\n",
      "       dshares  dtrans  nowners  \n",
      "25      1824.0       2        1  \n",
      "50      1334.0       1        1  \n",
      "75     99998.0       1        1  \n",
      "100     3659.0       1        1  \n",
      "125    21411.0       1        1  \n",
      "150     1263.0       1        1  \n",
      "175    16117.0       5        5  \n",
      "200  1049025.0      25       14  \n",
      "225   125798.0      34        2  \n",
      "250     9981.0       1        1  \n",
      "275      300.0       1        1  \n",
      "300    38800.0       8        1  \n"
     ]
    },
    {
     "data": {
      "text/plain": [
       "tdate       datetime64[ns]\n",
       "dayoweek            object\n",
       "month               object\n",
       "day                  int64\n",
       "year                 int64\n",
       "ntrans               int64\n",
       "ashares            float64\n",
       "atrans               int64\n",
       "dshares            float64\n",
       "dtrans               int64\n",
       "nowners              int64\n",
       "dtype: object"
      ]
     },
     "execution_count": 18,
     "metadata": {},
     "output_type": "execute_result"
    }
   ],
   "source": [
    "# Test cell for Problem 11 - do not delete or modify this cell\n",
    "# Do execute it\n",
    "print(df3.shape)\n",
    "I=[25,50,75,100, 125,150,175, 200, 225,250,275,300]\n",
    "print(df3.iloc[I])\n",
    "df3.dtypes"
   ]
  },
  {
   "cell_type": "markdown",
   "id": "dba66dae-6fe6-4a1f-94ac-cb1bd5910458",
   "metadata": {},
   "source": [
    "**Problem 12**\n",
    "\n",
    "Consider 10 year period defined by years 2013,...,2022. Use df3 to determine \n",
    "\n",
    "- the total number of days in which transactions took place \n",
    "during the entire period (assign this to a variable called **NTransactionDays**),\n",
    "\n",
    "- the year during this period with the most transaction days (assign this to **YearOfMaxTransactionDays**), and\n",
    "\n",
    "- the number of transaction days during the year with the most transaction days (assign this to a variable called **MaxTransactionDays**).\n",
    "\n",
    "Use the following cell for your code."
   ]
  },
  {
   "cell_type": "code",
   "execution_count": 19,
   "id": "550b20b5-13b3-4d81-b912-541b029c0adc",
   "metadata": {
    "tags": []
   },
   "outputs": [],
   "source": [
    "# Code cell for Problem 12 - do not delete or modify this line\n",
    "period = df3[(df3['year'] >= 2013) & (df3['year'] <= 2022)]\n",
    "NTransactionDays = len(period)\n",
    "YearOfMaxTransactionDays = period['year'].value_counts().index[0]\n",
    "MaxTransactionDays = period['year'].value_counts().iloc[0]"
   ]
  },
  {
   "cell_type": "code",
   "execution_count": 20,
   "id": "ec284936-23b2-4a68-9531-bbdf84e8261e",
   "metadata": {
    "tags": []
   },
   "outputs": [
    {
     "name": "stdout",
     "output_type": "stream",
     "text": [
      "190\n",
      "2016\n",
      "23\n"
     ]
    }
   ],
   "source": [
    "# Test cell for Problem 12 - do not delete or modify this cell\n",
    "# Do execute it\n",
    "print(NTransactionDays)\n",
    "print(YearOfMaxTransactionDays)\n",
    "print(MaxTransactionDays)\n"
   ]
  },
  {
   "cell_type": "markdown",
   "id": "0f1384b2-d68c-49d5-a0f4-1d5311e6f7bb",
   "metadata": {
    "tags": []
   },
   "source": [
    "**Problem 13**\n",
    "\n",
    "Is the maximum number of transaction days in a year during the 10 year period found in the Problem 12 explainable by chance alone? To answer this, take the total number of transactions (NTransactionDays) in the 10 year period and randomly assign them to years by sampling a year with replacement for each transaction and determine in 10,000 Monte-Carlo trials the proportion of trials that occur in which the maximun number of transactions in a year is at least the maximum obtained from the actual data (MaxTransactionDays).\n",
    "\n",
    "Use the following cell for your code and in that cell assign the proportion to a variable called **ProportionOfTrials**."
   ]
  },
  {
   "cell_type": "code",
   "execution_count": 21,
   "id": "dc3b88ce-1f27-4b31-a5c1-6defb758e0b0",
   "metadata": {
    "tags": []
   },
   "outputs": [],
   "source": [
    "# Code cell for Problem 13 - do not delete or modify this line\n",
    "count = 0\n",
    "years = list(range(2013, 2023))\n",
    "for _ in range(10000):\n",
    "    random_years = np.random.choice(list(years), NTransactionDays)\n",
    "    transaction_count = pd.Series(random_years).value_counts()\n",
    "    if transaction_count.max() >= MaxTransactionDays:\n",
    "        count += 1\n",
    "ProportionOfTrials = count / 10000"
   ]
  },
  {
   "cell_type": "code",
   "execution_count": 22,
   "id": "5de8107f-ad45-4c09-8a35-3eb11caf88cc",
   "metadata": {
    "tags": []
   },
   "outputs": [
    {
     "name": "stdout",
     "output_type": "stream",
     "text": [
      "0.9598\n"
     ]
    }
   ],
   "source": [
    "# Test cell for Problem 13 - do not delete or modify this cell\n",
    "# Do execute it\n",
    "print(ProportionOfTrials)"
   ]
  },
  {
   "cell_type": "markdown",
   "id": "a2ed06d7-6e22-4ccb-a600-d1701d5879bb",
   "metadata": {},
   "source": [
    "**Problem 14**\n",
    "\n",
    "Use the data frame df3 to create a new dataframe called **FebruaryDF** that contains a single row for every year (2004-2023) that has year as an index and contains the following columns:\n",
    "\n",
    "- **ntrans** = total number of transactions that took place in February of the year \n",
    "- **ashares** = number of shares acquired in February of the year\n",
    "- **atrans** = number of transactions in February of the year that were acquisitions\n",
    "- **dshares** = number of shares disposed of in February of the year\n",
    "- **dtrans** = number of transactions in February of the year in which shares were disposed of\n",
    "\n",
    "\n",
    "**Make sure these are the only columns.**\n",
    "\n",
    "Use the following cell for your code."
   ]
  },
  {
   "cell_type": "code",
   "execution_count": 23,
   "id": "88cc32d8-0b97-44e9-b60b-24e904bef96d",
   "metadata": {
    "tags": []
   },
   "outputs": [],
   "source": [
    "# Code cell for Problem 14 - do not delete or modify this line\n",
    "FebruaryDF = df3[(df3['month'] == 'Feb') & (df3['year'] >= 2004) & (df3['year'] <= 2023)].groupby('year').agg({\n",
    "    'ntrans': 'sum',\n",
    "    'ashares': 'sum',\n",
    "    'atrans': 'sum',\n",
    "    'dshares': 'sum',\n",
    "    'dtrans': 'sum'})"
   ]
  },
  {
   "cell_type": "code",
   "execution_count": 24,
   "id": "86e73283-407a-4b80-8142-4415bdb9aef7",
   "metadata": {
    "tags": []
   },
   "outputs": [
    {
     "name": "stdout",
     "output_type": "stream",
     "text": [
      "(20, 5)\n",
      "Index(['ntrans', 'ashares', 'atrans', 'dshares', 'dtrans'], dtype='object')\n",
      "      ntrans    ashares  atrans    dshares  dtrans\n",
      "year                                              \n",
      "2004      18   274920.0      10   341662.0       8\n",
      "2005      18   703560.0      10   160290.0       8\n",
      "2006      30   916830.0      18    47871.0      12\n",
      "2007      31   850344.0      21   274825.0      10\n",
      "2008      26   450531.0      19    14326.0       7\n",
      "2009      26  1107341.0      17    90480.0       9\n",
      "2010      25   738394.0      18    24053.0       7\n",
      "2011      51   683578.0      26    84229.0      25\n",
      "2012      40   784059.0      24   241714.0      16\n",
      "2013      72  1538424.0      38   914017.0      34\n",
      "2014      74  1920837.0      39  1153048.0      35\n",
      "2015     145  1354161.0      30  1097276.0     115\n",
      "2016      75  1725982.0      27  1257680.0      48\n",
      "2017      81  2037940.0      27  1618969.0      54\n",
      "2018     136  4215327.0      43  2937775.0      93\n",
      "2019     105  2379200.0      38  1769561.0      67\n",
      "2020      86  1455796.0      30  1142471.0      56\n",
      "2021      68  1370189.0      22  1163045.0      46\n",
      "2022      60   825679.0      18   723464.0      42\n",
      "2023      47   367868.0      13   497309.0      34\n"
     ]
    }
   ],
   "source": [
    "# Test cell for Problem 14 - do not delete or modify this cell\n",
    "# Do execute it\n",
    "print(FebruaryDF.shape)\n",
    "print(FebruaryDF.columns)\n",
    "print(FebruaryDF)"
   ]
  },
  {
   "cell_type": "markdown",
   "id": "a564b40b-43eb-40cc-917d-7bfec3a931bd",
   "metadata": {
    "tags": []
   },
   "source": [
    "Note that in every February of the years from 2004 to 2014 more transitions involving acqusitions occured than disposals, and from 2015 on the opposite was true. Still, in every February except 2004 and 2023\n",
    "more shares were acquired than disposed of."
   ]
  },
  {
   "cell_type": "markdown",
   "id": "21501d39-aec4-484c-850d-c7bc4bac41af",
   "metadata": {
    "tags": []
   },
   "source": [
    "**Problem 15**\n",
    "\n",
    "Go back to df2 from Problem 6 and make a dataframe called **OwnerSummary** with two columns. \n",
    "\n",
    "- **OwnerName** = owner name\n",
    "- **NTransactions** = total number of transactions for that owner\n",
    "\n",
    "Your dataframe should have index 0,1,2,... and the rows should be ordered by NTransactions in decreasing order.\n",
    "\n",
    "Use the following cell for your code."
   ]
  },
  {
   "cell_type": "code",
   "execution_count": 25,
   "id": "095412e8-a607-40be-aa0f-e5d5e7589565",
   "metadata": {
    "tags": []
   },
   "outputs": [],
   "source": [
    "# Code cell for Problem 15 - do not delete or modify this line\n",
    "OwnerSummary = df2.groupby('OwnerName').size().reset_index(name='NTransactions')\n",
    "OwnerSummary = OwnerSummary.sort_values(by='NTransactions', ascending=False).reset_index(drop=True)"
   ]
  },
  {
   "cell_type": "code",
   "execution_count": 26,
   "id": "0301445c-4e10-4de7-855f-684dd81c3851",
   "metadata": {
    "tags": []
   },
   "outputs": [
    {
     "name": "stdout",
     "output_type": "stream",
     "text": [
      "(68, 2)\n",
      "RangeIndex(start=0, stop=68, step=1)\n",
      "Index(['OwnerName', 'NTransactions'], dtype='object')\n",
      "                OwnerName  NTransactions\n",
      "0         DAMELIO FRANK A            243\n",
      "1            SUSMAN SALLY            227\n",
      "2              READ IAN C            227\n",
      "3    CANGIALOSI LORETTA V            179\n",
      "4       LANKLER DOUGLAS M            148\n",
      "5          Dolsten Mikael            132\n",
      "6            YOUNG JOHN D             97\n",
      "7          JOHNSON RADY A             96\n",
      "8          HILL CHARLES H             80\n",
      "9   MACKENZIE ALEXANDER R             67\n",
      "10          BOURLA ALBERT             65\n"
     ]
    }
   ],
   "source": [
    "# Test cell for Problem 15 - do not delete or modify this cell\n",
    "# Do execute it\n",
    "print(OwnerSummary.shape)\n",
    "print(OwnerSummary.index)\n",
    "print(OwnerSummary.columns)\n",
    "print(OwnerSummary.loc[0:10])"
   ]
  },
  {
   "cell_type": "markdown",
   "id": "f1935cc3-1cbf-42b8-9954-14d791136154",
   "metadata": {},
   "source": [
    "**Problem 16**\n",
    "\n",
    "We're interested in investigating instances for an owner in which, during some date windows,  \n",
    "\n",
    "- the owner acquired some shares and not dispose of any shares, or\n",
    "- the owner disposed of some shares but did not acquire any.\n",
    "\n",
    "\n",
    "Write a function called **OwnerSharesInWindow** that takes as inputs the following:\n",
    "\n",
    "- **oname** = owner name\n",
    "- **date** = start date for window (a datetime object)\n",
    "- **wdays** = number of days in window\n",
    "\n",
    "and that outputs \n",
    "\n",
    "- **nshares** = the total shares acquired by the owner during the period from the input date until up to and including wdays days after the input date, minus the share disposed of during that time period.\n",
    "\n",
    "Your function should use the data from the df2 dataframe.\n",
    "\n",
    "Use the following code for your solution."
   ]
  },
  {
   "cell_type": "code",
   "execution_count": 27,
   "id": "65971609-7eb3-4bd9-bee9-a678d5f136f9",
   "metadata": {
    "tags": []
   },
   "outputs": [],
   "source": [
    "# Code cell for Problem 16 - do not delete or modify this line\n",
    "def OwnerSharesInWindow(oname,date,wdays):\n",
    "    end = date + datetime.timedelta(days=wdays)\n",
    "    owner_data = df2[(df2['OwnerName'] == oname) & (df2['TransDate'] >= date) & (df2['TransDate'] <= end)]\n",
    "    total_acquired = owner_data[owner_data['ADCode'] == 'A']['Shares'].sum()\n",
    "    total_disposed = owner_data[owner_data['ADCode'] == 'D']['Shares'].sum()\n",
    "    nshares = total_acquired - total_disposed\n",
    "    return nshares"
   ]
  },
  {
   "cell_type": "code",
   "execution_count": 28,
   "id": "50791f2b-122f-4e1a-9484-94557d361101",
   "metadata": {
    "tags": []
   },
   "outputs": [
    {
     "name": "stdout",
     "output_type": "stream",
     "text": [
      "2007-02-07 00:00:00\n"
     ]
    },
    {
     "data": {
      "text/plain": [
       "0.0"
      ]
     },
     "execution_count": 28,
     "metadata": {},
     "output_type": "execute_result"
    }
   ],
   "source": [
    "# Test cell for Problem 16 - do not delete or modify this cell\n",
    "# Do execute it\n",
    "oname=\"READ IAN C\"\n",
    "date=datetime.datetime(2007,2,7)\n",
    "print(date)\n",
    "OwnerSharesInWindow(oname,date,1)"
   ]
  },
  {
   "cell_type": "markdown",
   "id": "df204191-a095-44c1-b53b-a3053e5905ea",
   "metadata": {},
   "source": [
    "**Problem 17**\n",
    "\n",
    "Read in the data from the file \"PFESharePriceHistory.csv\" and plot the \"Close\" price (y-axis) vs Date (x-axis) in a **scatter plot**\n",
    "for the period from 2/1/2009 to 12/31/2105.  Use s=1 for the size of the points. You should see price rise overall during this period.\n",
    "\n",
    "Use the following cell for your code."
   ]
  },
  {
   "cell_type": "code",
   "execution_count": 29,
   "id": "bbff4281-6ffd-4f33-a4cd-5bde19596d24",
   "metadata": {
    "tags": []
   },
   "outputs": [
    {
     "data": {
      "image/png": "[encoded data removed]",
      "text/plain": [
       "<Figure size 640x480 with 1 Axes>"
      ]
     },
     "metadata": {},
     "output_type": "display_data"
    }
   ],
   "source": [
    "# Code cell for Problem 17 - do not modify or delete this line\n",
    "import matplotlib.pyplot as plt\n",
    "sph1 = pd.read_csv('PFESharePriceHistory.csv')\n",
    "sph1['Date'] = pd.to_datetime(sph1['Date'])\n",
    "sph2 = sph1[(sph1['Date'] >= '2009-02-01') & (sph1['Date'] <= '2015-12-31')]\n",
    "plt.scatter(sph2['Date'], sph2['Close'], s=1)\n",
    "plt.title('PFE Share Price from 2/1/2009 to 12/31/2015')\n",
    "plt.xlabel('Year')\n",
    "plt.ylabel('Close Price')\n",
    "plt.show()"
   ]
  },
  {
   "cell_type": "markdown",
   "id": "22005116-558a-4694-93a4-605295bc7fd6",
   "metadata": {},
   "source": [
    "**Problem 18**\n",
    "\n",
    "Plot the \"Close\" price (y-axis) vs Date (x-axis) in a **scatter plot** for the period from 6/1/2007 to 3/5/2009.  Use s=1 for the size of the points. You should see price drop overall during this period.\n",
    "\n",
    "Use the following cell for your code."
   ]
  },
  {
   "cell_type": "code",
   "execution_count": 30,
   "id": "ebca570a-2602-4d4c-b3c6-f36189ca04d3",
   "metadata": {
    "tags": []
   },
   "outputs": [
    {
     "data": {
      "image/png": "[encoded data removed]",
      "text/plain": [
       "<Figure size 640x480 with 1 Axes>"
      ]
     },
     "metadata": {},
     "output_type": "display_data"
    }
   ],
   "source": [
    "# Code cell for Problem 18 - do not modify or delete this line\n",
    "sph1 = pd.read_csv('PFESharePriceHistory.csv')\n",
    "sph1['Date'] = pd.to_datetime(sph1['Date'])\n",
    "sph2 = sph1[(sph1['Date'] >= '2007-06-01') & (sph1['Date'] <= '2009-03-05')]\n",
    "plt.scatter(sph2['Date'], sph2['Close'], s=1)\n",
    "plt.title('PFE Share Price from 6/1/2007 to 3/5/2009')\n",
    "plt.xlabel('Year')\n",
    "plt.ylabel('Close Price')\n",
    "plt.show()"
   ]
  },
  {
   "cell_type": "markdown",
   "id": "c18f28bf-d98f-414a-bf44-a3dd2d129b10",
   "metadata": {},
   "source": [
    "**Problem 19**\n",
    "\n",
    "We would like to determine whether there is a tendency to acquire shares before a rise in price or to dispose of shares before a drop in price, which may constiture evidence of insider trading.\n",
    "\n",
    "Write a function called **SummarizeTransactionsDuringPeriod** that takes as inputs:\n",
    "\n",
    "- **date1** = a datetime \n",
    "- **date2** = a date time after date1 \n",
    "\n",
    "and returns as output a data frame consisting of two columns\n",
    "\n",
    "- **OwnerName** = name of owner\n",
    "- **NShares** = number of acquired minus shares disposed of for all transactions for the owner from date1 up to and including date2.\n",
    "\n",
    "with the data frame sorted by NShares from smallest to largest.\n",
    "\n",
    "**Your solution should be based on data in df2 and should have a row for every owner in df2 whose NShares value is non-zero.**\n",
    "\n",
    "Use the following function for your code."
   ]
  },
  {
   "cell_type": "code",
   "execution_count": 31,
   "id": "60e8888f-32cb-45ca-a186-fe1fca9247d4",
   "metadata": {
    "tags": []
   },
   "outputs": [],
   "source": [
    "# Code cell for Problem 19 - do not modify or delete this line\n",
    "def SummarizeTransactionsDuringPeriod(date1, date2):\n",
    "    period = df2[(df2['TransDate'] >= date1) & (df2['TransDate'] <= date2)]\n",
    "    summary = period.groupby('OwnerName').apply(\n",
    "        lambda x: x[x['ADCode'] == 'A']['Shares'].sum() - x[x['ADCode'] == 'D']['Shares'].sum()\n",
    "    ).reset_index(name='NShares')\n",
    "    summary = summary[summary['NShares'] != 0]\n",
    "    summary = summary.sort_values(by='NShares')\n",
    "    return summary"
   ]
  },
  {
   "cell_type": "code",
   "execution_count": 32,
   "id": "39327391-901a-4f2c-8e2a-e778c390122c",
   "metadata": {
    "tags": []
   },
   "outputs": [
    {
     "name": "stdout",
     "output_type": "stream",
     "text": [
      "               OwnerName   NShares\n",
      "13   STEERE WILLIAM C JR -457157.0\n",
      "4     GRAY III WILLIAM H    -980.0\n",
      "8           LEVIN ALAN G    8518.0\n",
      "1          BURT ROBERT N   10000.0\n",
      "0       BAGGER RICHARD H   18560.0\n",
      "14        WAXMAN ALLEN P   19745.0\n",
      "10         MCLEOD MARY S   20000.0\n",
      "2   CANGIALOSI LORETTA V   23862.0\n",
      "12      SHEDLARZ DAVID L   36789.0\n",
      "11            READ IAN C   47211.0\n",
      "3        FECZKO JOSEPH M   64183.0\n",
      "7       LAMATTINA JOHN L   75034.0\n",
      "6      KINDLER JEFFREY B   97391.0\n",
      "5          KATEN KAREN L  106582.0\n",
      "9      MCKINNELL HENRY A  600507.0\n"
     ]
    }
   ],
   "source": [
    "# Test cell for Problem 19 - do not modify or delete this cell\n",
    "# Do execute it\n",
    "date1=datetime.datetime(2005,3,1)\n",
    "date2=datetime.datetime(2007,6,1)\n",
    "dt=SummarizeTransactionsDuringPeriod(date1,date2)\n",
    "print(dt.to_string())"
   ]
  },
  {
   "cell_type": "markdown",
   "id": "5a38f996-a8b5-4b00-a522-a46436a2b950",
   "metadata": {},
   "source": [
    "**Make sure all cells can be executed without errors.**\n",
    "\n",
    "**Make sure to save the notebook before you submit it.**"
   ]
  }
 ],
 "metadata": {
  "kernelspec": {
   "display_name": "Python 3 (ipykernel)",
   "language": "python",
   "name": "python3"
  },
  "language_info": {
   "codemirror_mode": {
    "name": "ipython",
    "version": 3
   },
   "file_extension": ".py",
   "mimetype": "text/x-python",
   "name": "python",
   "nbconvert_exporter": "python",
   "pygments_lexer": "ipython3",
   "version": "3.11.4"
  }
 },
 "nbformat": 4,
 "nbformat_minor": 5
}
